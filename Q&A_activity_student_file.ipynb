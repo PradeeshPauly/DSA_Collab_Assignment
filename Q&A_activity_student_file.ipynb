{
  "nbformat": 4,
  "nbformat_minor": 0,
  "metadata": {
    "kernelspec": {
      "display_name": "Python 3",
      "language": "python",
      "name": "python3"
    },
    "language_info": {
      "codemirror_mode": {
        "name": "ipython",
        "version": 3
      },
      "file_extension": ".py",
      "mimetype": "text/x-python",
      "name": "python",
      "nbconvert_exporter": "python",
      "pygments_lexer": "ipython3",
      "version": "3.7.6"
    },
    "colab": {
      "name": "Q&A activity student file.ipynb",
      "provenance": [],
      "collapsed_sections": []
    }
  },
  "cells": [
    {
      "cell_type": "markdown",
      "metadata": {
        "id": "4z_Z-K1tlrS7"
      },
      "source": [
        "## 1. Complete the following code to find the area of an equilateral triangle. Output should be as displayed"
      ]
    },
    {
      "cell_type": "code",
      "metadata": {
        "id": "rP2qFD_SlrS_",
        "colab": {
          "base_uri": "https://localhost:8080/"
        },
        "outputId": "80b9f809-08f5-4a36-a766-ed9d88cb9aa5"
      },
      "source": [
        "import math\n",
        "side=float(input(\"Enter the side of the equilateral triangle: \"))\n",
        "area=(math.sqrt(3)/4)*math.pow(side,2)\n",
        "print('Area=',area)\n"
      ],
      "execution_count": 2,
      "outputs": [
        {
          "output_type": "stream",
          "name": "stdout",
          "text": [
            "Enter the side of the equilateral triangle: 4\n",
            "Area= 6.928203230275509\n"
          ]
        }
      ]
    },
    {
      "cell_type": "markdown",
      "metadata": {
        "id": "TjVKjIfclrTB"
      },
      "source": [
        "## 2. Write a program to count the number of each characters in a string"
      ]
    },
    {
      "cell_type": "code",
      "metadata": {
        "id": "JY5seVUQlrTC",
        "outputId": "243f6b6e-4cbe-4e3b-cd73-c762723d8e12",
        "colab": {
          "base_uri": "https://localhost:8080/"
        }
      },
      "source": [
        "n=str(input('Enter you string'))\n",
        "n1=str(n.lower())\n",
        "x=\"\"\n",
        "for i in n1:\n",
        "    if i not in x:\n",
        "        print(i,\"occurs\",n1.count(i),\"times\")\n",
        "        x=x+i"
      ],
      "execution_count": 22,
      "outputs": [
        {
          "output_type": "stream",
          "name": "stdout",
          "text": [
            "Enter you stringpradeesh\n",
            "p occurs 1 times\n",
            "r occurs 1 times\n",
            "a occurs 1 times\n",
            "d occurs 1 times\n",
            "e occurs 2 times\n",
            "s occurs 1 times\n",
            "h occurs 1 times\n"
          ]
        }
      ]
    },
    {
      "cell_type": "markdown",
      "metadata": {
        "id": "l3LCULfklrTD"
      },
      "source": [
        "## Write a program to find the area and perimeter of a rectangle using functions"
      ]
    },
    {
      "cell_type": "code",
      "metadata": {
        "id": "8haQD8edlrTD",
        "outputId": "86226f32-895b-4321-f998-90e0754bf641",
        "colab": {
          "base_uri": "https://localhost:8080/"
        }
      },
      "source": [
        "def area(a,b):\n",
        "  return a*b\n",
        "def perimeter(a,b):\n",
        "  return 2*(a+b)\n",
        "l=float(input('Enter the length'))\n",
        "b=float(input('Enter the breadth'))\n",
        "print('Area=',area(l,b))\n",
        "print('Perimeter=',perimeter(l,b))"
      ],
      "execution_count": 19,
      "outputs": [
        {
          "output_type": "stream",
          "name": "stdout",
          "text": [
            "Enter the length3\n",
            "Enter the breadth4\n",
            "Area= 12.0\n",
            "Perimeter= 14.0\n"
          ]
        }
      ]
    },
    {
      "cell_type": "markdown",
      "metadata": {
        "id": "JHK4ZdsflrTE"
      },
      "source": [
        "## 4. Write a program to print the fibonacci series till a specified number"
      ]
    },
    {
      "cell_type": "code",
      "metadata": {
        "id": "LyBEj-4SlrTE",
        "outputId": "9f49a40b-c8cc-4e03-fcc1-2086eb1cbeb0",
        "colab": {
          "base_uri": "https://localhost:8080/"
        }
      },
      "source": [
        "n=int(input(\"Enter your limit: \"))\n",
        "a=0\n",
        "b=1\n",
        "sum=0\n",
        "count=1\n",
        "print(\"Fibonacci series: \", end=\" \")\n",
        "while (count<=n):\n",
        "  print(sum,end=\" \")\n",
        "  count+=1\n",
        "  a=b\n",
        "  b=sum\n",
        "  sum=a+b"
      ],
      "execution_count": 24,
      "outputs": [
        {
          "output_type": "stream",
          "name": "stdout",
          "text": [
            "Enter your limit: 10\n",
            "Fibonacci series:  0 1 1 2 3 5 8 13 21 34 "
          ]
        }
      ]
    },
    {
      "cell_type": "markdown",
      "metadata": {
        "id": "u4uBUcQKlrTE"
      },
      "source": [
        "## 5. Complete the following code to find the minimum of 3 number using cinditional statements. Output should be as displayed"
      ]
    },
    {
      "cell_type": "code",
      "metadata": {
        "id": "XdZwrZjIlrTF",
        "outputId": "eeafe6ce-709e-46c1-d97b-f77c110c772d",
        "colab": {
          "base_uri": "https://localhost:8080/"
        }
      },
      "source": [
        "a,b,c = input(\"Enter three numbers followed by  : \").split()\n",
        "\n",
        "print(\"First number :\",a)\n",
        "print(\"Second number :\",b)\n",
        "print(\"Third number :\",c)\n",
        "\n",
        "if(a==b==c):\n",
        "    print(\"Entered numbers are equal!!!\")\n",
        "if (a<b) and (a<c):\n",
        "  print(a,\" is smallest\")\n",
        "if(b<a) and (b<c):\n",
        "  print(b,\" is smallest\")\n",
        "if(c<a) and(c<b):\n",
        "  print(c,\" is smallest\")"
      ],
      "execution_count": 15,
      "outputs": [
        {
          "output_type": "stream",
          "name": "stdout",
          "text": [
            "Enter three numbers followed by  : 1 2 3\n",
            "First number : 1\n",
            "Second number : 2\n",
            "Third number : 3\n",
            "1  is smallest\n"
          ]
        }
      ]
    },
    {
      "cell_type": "code",
      "metadata": {
        "colab": {
          "base_uri": "https://localhost:8080/"
        },
        "id": "FTqqtb1yMB84",
        "outputId": "aefa444f-0f15-4571-9f7b-513468f993da"
      },
      "source": [
        "a,b,c = input(\"Enter three numbers followed by space : \").split()\n",
        "\n",
        "print(\"First number :\",a)\n",
        "print(\"Second number :\",b)\n",
        "print(\"Third number :\",c)\n",
        "\n",
        "    print(\"Entered numbers are equal!!!\")\n",
        "\n",
        "    print(a,\" is smallest\")\n",
        "\n",
        "    print(b,\" is smallest\")\n",
        "\n",
        "    print(c,\" is smallest\")\n"
      ],
      "execution_count": null,
      "outputs": [
        {
          "output_type": "stream",
          "name": "stdout",
          "text": [
            "Enter three numbers followed by  : 3 -11 12\n",
            "First number : 3\n",
            "Second number : -11\n",
            "Third number : 12\n",
            "-11  is smallest\n"
          ]
        }
      ]
    },
    {
      "cell_type": "markdown",
      "metadata": {
        "id": "aR_CnToWlrTG"
      },
      "source": [
        "## 6. Write a program to print star pyramind. The number of rows should be taken as input from the user"
      ]
    },
    {
      "cell_type": "code",
      "metadata": {
        "id": "M37A-buplrTG",
        "outputId": "7cf81d00-3e09-40f6-cbb8-08654374b83b",
        "colab": {
          "base_uri": "https://localhost:8080/"
        }
      },
      "source": [
        "n=int(input(\"Enter number of rows: \"))\n",
        "for i in range(0,n):\n",
        "  for j in range(0,i+1):\n",
        "    print(\"* \",end=\"\")\n",
        "  print(\"\\r\")"
      ],
      "execution_count": 25,
      "outputs": [
        {
          "output_type": "stream",
          "name": "stdout",
          "text": [
            "Enter number of rows: 7\n",
            "* \n",
            "* * \n",
            "* * * \n",
            "* * * * \n",
            "* * * * * \n",
            "* * * * * * \n",
            "* * * * * * * \n"
          ]
        }
      ]
    },
    {
      "cell_type": "markdown",
      "metadata": {
        "id": "tlY6aFWBlrTH"
      },
      "source": [
        "## 7. Complete the following code to convert hour into seconds. Output should be as displayed"
      ]
    },
    {
      "cell_type": "code",
      "metadata": {
        "id": "YOZQFk7FlrTH",
        "colab": {
          "base_uri": "https://localhost:8080/"
        },
        "outputId": "50ad705f-c661-4a56-fab7-7b37c4bc95a7"
      },
      "source": [
        "def to_seconds(t):\n",
        "  return t*3600\n",
        "time_in_hours = int(input('Enter time in Hours :'))\n",
        "print(time_in_hours ,\" Hour is equal to\" ,to_seconds(time_in_hours) ,\" Seconds\")"
      ],
      "execution_count": 11,
      "outputs": [
        {
          "output_type": "stream",
          "name": "stdout",
          "text": [
            "Enter time in Hours :12\n",
            "12  Hour is equal to 43200  Seconds\n"
          ]
        }
      ]
    },
    {
      "cell_type": "markdown",
      "metadata": {
        "id": "CnYorNiLlrTI"
      },
      "source": [
        "## 8. Write a program to print multiplication table as below"
      ]
    },
    {
      "cell_type": "code",
      "metadata": {
        "id": "dPQqDPuDlrTI",
        "colab": {
          "base_uri": "https://localhost:8080/"
        },
        "outputId": "be3e9ba4-30e0-41be-ab94-1ebc7da710a8"
      },
      "source": [
        "def multiply(n):\n",
        "  for i in range(1,11):\n",
        "    print(i,'*',n,'=',n*i)\n",
        "num=int(input('Enter a number to find the multiplication table'))\n",
        "multiply(num)  "
      ],
      "execution_count": 6,
      "outputs": [
        {
          "output_type": "stream",
          "name": "stdout",
          "text": [
            "Enter a number to find the multiplication table4\n",
            "1 * 4 = 4\n",
            "2 * 4 = 8\n",
            "3 * 4 = 12\n",
            "4 * 4 = 16\n",
            "5 * 4 = 20\n",
            "6 * 4 = 24\n",
            "7 * 4 = 28\n",
            "8 * 4 = 32\n",
            "9 * 4 = 36\n",
            "10 * 4 = 40\n"
          ]
        }
      ]
    },
    {
      "cell_type": "markdown",
      "metadata": {
        "id": "Fiaez8iblrTI"
      },
      "source": [
        "## 9. Write a program to take your 5 favorite food as list and print each as 'I like Biriyani'"
      ]
    },
    {
      "cell_type": "code",
      "metadata": {
        "id": "39W1zFX7lrTJ",
        "colab": {
          "base_uri": "https://localhost:8080/"
        },
        "outputId": "a186a615-9046-4ca0-bca5-66b0efcff020"
      },
      "source": [
        "a,b,c,d,e=input('Enter your list of favorite food:').split()\n",
        "print('I like',a)\n",
        "print('I like',b)\n",
        "print('I like',c)\n",
        "print('I like',d)\n",
        "print('I like',e)"
      ],
      "execution_count": 18,
      "outputs": [
        {
          "output_type": "stream",
          "name": "stdout",
          "text": [
            "Enter your list of favorite food:Biryani Shawarma Panipuri Tea Dosa\n",
            "I like Biryani\n",
            "I like Shawarma\n",
            "I like Panipuri\n",
            "I like Tea\n",
            "I like Dosa\n"
          ]
        }
      ]
    },
    {
      "cell_type": "markdown",
      "metadata": {
        "id": "3vlcDNNEP7d_"
      },
      "source": [
        "## 10. Find error(s) in the following code(if any) and rewrite code.\n",
        "\n"
      ]
    },
    {
      "cell_type": "code",
      "metadata": {
        "id": "coREkcY3P9sG",
        "outputId": "8f5e123d-ad2b-4c65-d87c-051f0107ea47",
        "colab": {
          "base_uri": "https://localhost:8080/"
        }
      },
      "source": [
        "x= int(input('Enter value for x:'))\n",
        "y=int(input('Enter a value for y:'))\n",
        "if(x==y):\n",
        "  print(\"They are equal\")\n",
        "else:\n",
        "  print( \"They are unequal\")"
      ],
      "execution_count": 8,
      "outputs": [
        {
          "output_type": "stream",
          "name": "stdout",
          "text": [
            "Enter value of x:1\n",
            "Enter a value for y:2\n",
            "They are unequal\n"
          ]
        }
      ]
    }
  ]
}